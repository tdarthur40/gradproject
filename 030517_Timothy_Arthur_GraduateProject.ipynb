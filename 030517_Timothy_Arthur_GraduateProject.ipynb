{
 "cells": [
  {
   "cell_type": "code",
   "execution_count": 12,
   "metadata": {
    "collapsed": false
   },
   "outputs": [
    {
     "data": {
      "text/html": [
       "<iframe id=\"igraph\" scrolling=\"no\" style=\"border:none;\" seamless=\"seamless\" src=\"https://plot.ly/~tdarthur40/172.embed\" height=\"525px\" width=\"100%\"></iframe>"
      ],
      "text/plain": [
       "<plotly.tools.PlotlyDisplay object>"
      ]
     },
     "execution_count": 12,
     "metadata": {},
     "output_type": "execute_result"
    }
   ],
   "source": [
    "import plotly.plotly as py\n",
    "import plotly.graph_objs as go\n",
    "import os\n",
    "import pandas as pd\n",
    "\n",
    "# find and open file as pandas dataframe\n",
    "df = pd.read_csv('bioreactor_3_gradproj.csv') \n",
    "\n",
    "#sorting by abundance\n",
    "df = df.query('t19 > 100')\n",
    "OTU_ID = list(df['OTU_ID'])\n",
    "\n",
    "# shorten names\n",
    "shorter_OTU_ID = []\n",
    "for string in OTU_ID:\n",
    "    start_pos = string.find('g__')\n",
    "    end_pos = string.find(';s__')\n",
    "    shorter_OTU_ID.append(string[start_pos:end_pos])\n",
    "\n",
    "# making dataframe and list2 of days \n",
    "col_names = list(df.columns)\n",
    "data_per_date = []\n",
    "for col_name in col_names[1:]:\n",
    "  data_per_date.append(df[col_name])\n",
    "\n",
    "# generating heatmap\n",
    "trace = go.Heatmap(z = data_per_date,\\\n",
    "                   x = shorter_OTU_ID,\\\n",
    "                   y = col_names[1:])\n",
    "data = [trace]\n",
    "layout = go.Layout(title = 'Bioreactor Timecourse OTU Heatmap',\\\n",
    "                   xaxis = dict(title = 'Bacterial Genus'),\\\n",
    "                    yaxis = dict(title = 'Day of Sample Collection'),\\\n",
    "                    margin = go.Margin(\n",
    "                            b=125))\n",
    "figure = go.Figure(data=data, layout=layout)\n",
    "py.iplot(figure)\n",
    "\n",
    "\n"
   ]
  },
  {
   "cell_type": "code",
   "execution_count": null,
   "metadata": {
    "collapsed": true
   },
   "outputs": [],
   "source": []
  }
 ],
 "metadata": {
  "kernelspec": {
   "display_name": "Python [default]",
   "language": "python",
   "name": "python3"
  },
  "language_info": {
   "codemirror_mode": {
    "name": "ipython",
    "version": 3
   },
   "file_extension": ".py",
   "mimetype": "text/x-python",
   "name": "python",
   "nbconvert_exporter": "python",
   "pygments_lexer": "ipython3",
   "version": "3.5.2"
  }
 },
 "nbformat": 4,
 "nbformat_minor": 2
}
